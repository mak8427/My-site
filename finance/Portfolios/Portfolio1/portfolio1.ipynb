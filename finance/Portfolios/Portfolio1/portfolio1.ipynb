{
 "cells": [
  {
   "cell_type": "raw",
   "id": "721c25a3889438fb",
   "metadata": {},
   "source": [
    "Portfolio1Portfolio1"
   ]
  },
  {
   "cell_type": "code",
   "execution_count": null,
   "id": "e2f8e6ba8ede2fe8",
   "metadata": {
    "ExecuteTime": {
     "start_time": "2023-12-10T22:21:12.490488500Z"
    }
   },
   "outputs": [],
   "source": [
    "import pandas as pd\n",
    "import numpy as np\n",
    "import yfinance as yf\n",
    "import random\n",
    "from matplotlib import pyplot as plt\n",
    "import seaborn as sns\n",
    "import warnings\n",
    "import secrets\n",
    "import plotly as plotly\n",
    "import plotly.express as px\n",
    "from tqdm import tqdm\n",
    "import plotly.graph_objects as go\n",
    "pd.set_option('plotting.backend', 'matplotlib')\n",
    "plotly.offline.init_notebook_mode()\n",
    "\n",
    "#warnings.simplefilter(action='ignore', category=FutureWarning\n",
    "\n",
    "import plotly.io as pio\n",
    "plotly_template = pio.templates[\"plotly_dark\"]\n",
    "plt.style.use('dark_background')\n",
    "\n",
    "\n",
    "\n"
   ]
  },
  {
   "cell_type": "markdown",
   "id": "e5b3b00d5094b845",
   "metadata": {},
   "source": [
    "<h1>PORTFOLIOS</h1>\n"
   ]
  },
  {
   "cell_type": "code",
   "execution_count": null,
   "id": "d952f69ed1ee5ccd",
   "metadata": {
    "ExecuteTime": {
     "start_time": "2023-12-10T22:21:12.491489200Z"
    }
   },
   "outputs": [],
   "source": [
    "TICKERS=[\"IWDA.AS\",\"^GSPC\",\"FTSEMIB.MI\"]\n",
    "NUMBER_OF_SIMULATIONS=1000\n",
    "STARTING_CAPITAL = 10000\n",
    "YEARS_OF_SIMULATION=30"
   ]
  },
  {
   "cell_type": "code",
   "execution_count": null,
   "id": "cd4efe416cd978bf",
   "metadata": {
    "ExecuteTime": {
     "start_time": "2023-12-10T22:21:12.493490800Z"
    }
   },
   "outputs": [],
   "source": [
    "YEARS_OF_SIMULATION=YEARS_OF_SIMULATION+1\n",
    "Market_Days=253\n",
    "\n",
    "df_Tickers={x: yf.download(x)[\"Adj Close\"].pct_change(1).dropna() for x in TICKERS}"
   ]
  },
  {
   "cell_type": "code",
   "execution_count": null,
   "id": "150c960b8679506d",
   "metadata": {
    "ExecuteTime": {
     "start_time": "2023-12-10T22:21:12.494491700Z"
    }
   },
   "outputs": [],
   "source": [
    "df_simulations={x: np.zeros((YEARS_OF_SIMULATION,NUMBER_OF_SIMULATIONS)) for x in TICKERS}\n",
    "for TICKER in TICKERS:\n",
    "    df_local=df_simulations[TICKER]\n",
    "    df_local[0, :] = STARTING_CAPITAL\n",
    "    df_simulations[TICKER]=df_local\n",
    "    for x in tqdm(range(0,NUMBER_OF_SIMULATIONS)):\n",
    "        _=np.array((df_Tickers[TICKER].iloc[:]))\n",
    "        for i in range(1,YEARS_OF_SIMULATION):\n",
    "            sample=np.random.choice(_,Market_Days)+1\n",
    "            annual_change=np.prod(sample)\n",
    "            df_simulations[TICKER][i,x]=annual_change*df_simulations[TICKER][i-1,x]\n",
    "df_simulations={x: pd.DataFrame(df_simulations[x]) for x in TICKERS}\n",
    "df_simulations_1=  df_simulations\n",
    "\n"
   ]
  },
  {
   "cell_type": "code",
   "execution_count": null,
   "outputs": [],
   "source": [],
   "metadata": {
    "collapsed": false,
    "ExecuteTime": {
     "start_time": "2023-12-10T22:21:12.496493600Z"
    }
   },
   "id": "a367c454ddb73989"
  },
  {
   "cell_type": "code",
   "execution_count": null,
   "id": "8a00e6d4d04614fa",
   "metadata": {
    "ExecuteTime": {
     "start_time": "2023-12-10T22:21:12.497494400Z"
    }
   },
   "outputs": [],
   "source": [
    "quantile={x: list(df_simulations[x].iloc[YEARS_OF_SIMULATION-1].quantile([0.1,0.9])) for x in TICKERS}\n",
    "print(quantile)\n",
    "df_simulations_purged={x: 40 for x in TICKERS}\n",
    "print(df_simulations_purged)\n",
    "for TICKER in TICKERS:\n",
    "    df_local=df_simulations[TICKER]\n",
    "    df_simulations_purged[TICKER]=df_local[df_local.columns[ df_local.max() < quantile[TICKER][1]]]\n",
    "    df_simulations_purged[TICKER]=df_simulations_purged[TICKER][df_simulations_purged[TICKER].columns[ df_simulations_purged[TICKER].max() > quantile[TICKER][0]]]\n"
   ]
  },
  {
   "cell_type": "code",
   "execution_count": null,
   "id": "db10bece24023926",
   "metadata": {
    "ExecuteTime": {
     "start_time": "2023-12-10T22:21:12.499495900Z"
    }
   },
   "outputs": [],
   "source": [
    "#for TICKER in TICKERS:\n",
    "#   df_simulations_purged[TICKER].plot(figsize=(16,8), title=f\"Simulation of {TICKER} {NUMBER_OF_SIMULATIONS} portfolios\", legend=False)"
   ]
  },
  {
   "cell_type": "code",
   "execution_count": null,
   "id": "10c9c0e082e2babc",
   "metadata": {
    "ExecuteTime": {
     "start_time": "2023-12-10T22:21:12.500497400Z"
    }
   },
   "outputs": [],
   "source": [
    "for TICKER in TICKERS:\n",
    "    df_simulations_purged[TICKER].iloc[YEARS_OF_SIMULATION-1].plot.density(figsize=(16,8),fontsize=14, xlim=(0,90000), label=TICKER , legend= True)"
   ]
  },
  {
   "cell_type": "code",
   "execution_count": null,
   "id": "e8af7e31e50345d4",
   "metadata": {
    "ExecuteTime": {
     "start_time": "2023-12-10T22:21:12.501498200Z"
    }
   },
   "outputs": [],
   "source": [
    "df_statistics= {x: 0 for x in TICKERS}\n",
    "for TICKER in TICKERS:\n",
    "    top_25 =[]\n",
    "    low_25 =[]\n",
    "    median=[]\n",
    "    for i in range(0,YEARS_OF_SIMULATION):\n",
    "        top_25.append(df_simulations[TICKER].iloc[i].quantile(0.75))\n",
    "        low_25.append(df_simulations[TICKER].iloc[i].quantile(0.25))\n",
    "        median.append(df_simulations[TICKER].iloc[i].median())\n",
    "    columns=[\"top 25%\",\"median\",\"bottom 25%\"]\n",
    "    df_statistics[TICKER]=pd.DataFrame(list(zip(top_25,median,low_25)),columns=columns)"
   ]
  },
  {
   "cell_type": "code",
   "execution_count": null,
   "id": "7d6f28a04b2a2d9",
   "metadata": {
    "ExecuteTime": {
     "start_time": "2023-12-10T22:21:12.502499200Z"
    }
   },
   "outputs": [],
   "source": [
    "#ax= df_statistics.plot(legend=None,logy=False,fontsize=20,figsize=(25,15),linewidth=4,color=\"black\",title=f\"Simulation of {NUMBER_OF_SIMULATIONS} portfolios\")\n",
    "pd.set_option('plotting.backend', 'plotly')\n",
    "for TICKER in TICKERS:\n",
    "    fig = df_statistics[TICKER].plot(width=1600, height=800,title=f\"Simulation of {NUMBER_OF_SIMULATIONS} {TICKER} portfolios\",labels= {\"index\": \"Years \", \"value\":\"Total Capital\"} ,template='plotly_dark')\n",
    "    fig.add_trace(go.Scatter(x=list(range(0,YEARS_OF_SIMULATION)),y=np.array(df_statistics[TICKER][\"top 25%\"]),fill='tonexty',mode='lines', line_color='blue' , fillcolor =\"red\", showlegend=False, hoverinfo=\"skip\"))    \n",
    "    fig.add_trace(go.Scatter(x=list(range(0,YEARS_OF_SIMULATION)),y=np.array(df_statistics[TICKER][\"median\"]),fill='tonexty',mode='lines', line_color='orange', fillcolor=\"green\", showlegend=False, hoverinfo=\"skip\"))\n",
    "    fig.show()"
   ]
  },
  {
   "cell_type": "code",
   "execution_count": null,
   "id": "79841dbd0ad9eac2",
   "metadata": {
    "ExecuteTime": {
     "start_time": "2023-12-10T22:21:12.503500Z"
    }
   },
   "outputs": [],
   "source": [
    "df_simulations_at_profit={x:0 for x in TICKERS}\n",
    "for TICKER in TICKERS:\n",
    "    ls_simulations_at_profit=[]\n",
    "    for i in range(YEARS_OF_SIMULATION):\n",
    "        c=len([1 for i in list(df_simulations[TICKER].iloc[i])if i > STARTING_CAPITAL])\n",
    "        ls_simulations_at_profit.append(c/NUMBER_OF_SIMULATIONS*100)\n",
    "    pd.set_option('plotting.backend', 'plotly')\n",
    "    df_simulations_at_profit[TICKER] = pd.DataFrame(ls_simulations_at_profit,columns=[\"Profit %\"])\n",
    "    fig=df_simulations_at_profit[TICKER].plot(title=f\"Minimum investment horizon of {TICKER}\", labels= {\"index\": \"Period length in years\", \"value\":\"Chance to be in profit\"},template='plotly_dark')\n",
    "    fig.show()\n",
    "    \n",
    "    \n",
    "    "
   ]
  },
  {
   "cell_type": "code",
   "execution_count": null,
   "outputs": [],
   "source": [
    "for TICKER in TICKERS:\n",
    "    print(f\"The median return of {TICKER} is {round((((np.median(np.array(df_simulations[TICKER].iloc[YEARS_OF_SIMULATION-1,:]))/STARTING_CAPITAL)**(1/YEARS_OF_SIMULATION))-1)*100,2)}%\")"
   ],
   "metadata": {
    "collapsed": false,
    "ExecuteTime": {
     "start_time": "2023-12-10T22:21:12.504501100Z"
    }
   },
   "id": "bbd0783b3ffdefe2"
  },
  {
   "cell_type": "code",
   "execution_count": null,
   "outputs": [],
   "source": [
    "def drawdown(a):\n",
    "    a= a.pct_change().dropna()\n",
    "    acc_max = np.maximum.accumulate(a)\n",
    "    return (a - acc_max).min()\n",
    "median_Drawdown={x : [] for x in TICKERS}\n",
    "for TICKER in TICKERS:\n",
    "    for s in range(NUMBER_OF_SIMULATIONS-1):\n",
    "        series=df_simulations[TICKER].iloc[:,s]\n",
    "        d=drawdown(series)\n",
    "        median_Drawdown[TICKER].append(d)\n",
    "    print(f\"The median drawdown of {TICKER} is {round(np.median(median_Drawdown[TICKER])*100,2)}%\")\n"
   ],
   "metadata": {
    "collapsed": false,
    "ExecuteTime": {
     "start_time": "2023-12-10T22:21:12.505501700Z"
    }
   },
   "id": "cf56150fa745edb1"
  },
  {
   "cell_type": "code",
   "execution_count": null,
   "id": "7edb308ffd62ac84",
   "metadata": {
    "ExecuteTime": {
     "start_time": "2023-12-10T22:21:12.506503100Z"
    }
   },
   "outputs": [],
   "source": []
  },
  {
   "cell_type": "code",
   "execution_count": null,
   "id": "3b2505ce0c4d5960",
   "metadata": {
    "ExecuteTime": {
     "start_time": "2023-12-10T22:21:12.507503800Z"
    }
   },
   "outputs": [],
   "source": [
    "#TICKERS=[\"AAPL\", \"DB\"]\n",
    "df_joined=yf.download(TICKERS)[\"Adj Close\"].pct_change(1).dropna()\n",
    "\n",
    "df_joined.corr()\n",
    "\n"
   ]
  },
  {
   "cell_type": "code",
   "execution_count": null,
   "outputs": [],
   "source": [
    "rows=[]\n",
    "\n",
    "for TICKER in  TICKERS:\n",
    "    for TICKER_1 in TICKERS:\n",
    "        Mak_Score=round(np.median((np.array(df_joined[TICKER_1][(df_joined[TICKER_1]>0) & (df_joined[TICKER]>0) ])+1e-10)/(np.array(df_joined[TICKER][(df_joined[TICKER_1]>0) & (df_joined[TICKER]>0) ])+1e-10)),2) - round(np.median((np.array(df_joined[TICKER_1][(df_joined[TICKER_1]<0) & (df_joined[TICKER]<0) ])+1e-10)/(np.array(df_joined[TICKER][(df_joined[TICKER_1]<0) & (df_joined[TICKER]<0) ])+1e-10)))\n",
    "        \n",
    "        rows.append([TICKER,TICKER_1,Mak_Score])\n",
    "\n",
    "df_Mak=pd.DataFrame(data=rows, columns=[\"tick1\",\"tick2\",\"Mak coefficent\"])\n",
    "df_Mak"
   ],
   "metadata": {
    "collapsed": false,
    "ExecuteTime": {
     "start_time": "2023-12-10T22:21:12.508504700Z"
    }
   },
   "id": "4cfcd55d517069e8"
  },
  {
   "cell_type": "markdown",
   "source": [
    "/<h1>PORTOFLIO OPTIMISATION</h1>"
   ],
   "metadata": {
    "collapsed": false
   },
   "id": "8976a8dd940d5881"
  },
  {
   "cell_type": "code",
   "execution_count": null,
   "outputs": [],
   "source": [
    "\n",
    "\n",
    "\n",
    "\n",
    "df_simulations_yr_={x: np.zeros((YEARS_OF_SIMULATION,len(TICKERS))) for x in TICKERS}\n",
    "df_Tickers"
   ],
   "metadata": {
    "collapsed": false,
    "ExecuteTime": {
     "start_time": "2023-12-10T22:21:12.509504900Z"
    }
   },
   "id": "1a22b4449d8838bf"
  },
  {
   "cell_type": "code",
   "execution_count": null,
   "outputs": [],
   "source": [],
   "metadata": {
    "collapsed": false,
    "ExecuteTime": {
     "start_time": "2023-12-10T22:21:12.509504900Z"
    }
   },
   "id": "41924e6c612c123d"
  },
  {
   "cell_type": "code",
   "execution_count": null,
   "outputs": [],
   "source": [
    "#!jupyter nbconvert --to html Portfolio1.ipynb --HTMLExporter.theme=dark\n"
   ],
   "metadata": {
    "collapsed": false,
    "ExecuteTime": {
     "start_time": "2023-12-10T22:21:12.510505800Z"
    }
   },
   "id": "abab7b4c5a10a5f4"
  },
  {
   "cell_type": "code",
   "execution_count": null,
   "outputs": [],
   "source": [],
   "metadata": {
    "collapsed": false,
    "ExecuteTime": {
     "start_time": "2023-12-10T22:21:12.511506700Z"
    }
   },
   "id": "7712d772002a1c50"
  }
 ],
 "metadata": {
  "kernelspec": {
   "display_name": "Python 3 (ipykernel)",
   "language": "python",
   "name": "python3"
  },
  "language_info": {
   "codemirror_mode": {
    "name": "ipython",
    "version": 3
   },
   "file_extension": ".py",
   "mimetype": "text/x-python",
   "name": "python",
   "nbconvert_exporter": "python",
   "pygments_lexer": "ipython3",
   "version": "3.11.5"
  }
 },
 "nbformat": 4,
 "nbformat_minor": 5
}
